{
  "nbformat": 4,
  "nbformat_minor": 0,
  "metadata": {
    "colab": {
      "provenance": [],
      "authorship_tag": "ABX9TyPQHEcgwZcftLrEC7cgdcoP",
      "include_colab_link": true
    },
    "kernelspec": {
      "name": "python3",
      "display_name": "Python 3"
    },
    "language_info": {
      "name": "python"
    }
  },
  "cells": [
    {
      "cell_type": "markdown",
      "metadata": {
        "id": "view-in-github",
        "colab_type": "text"
      },
      "source": [
        "<a href=\"https://colab.research.google.com/github/eluizaTsuda/fcc-data-analysis-with-python/blob/main/DataAnalysisWithPython_1.ipynb\" target=\"_parent\"><img src=\"https://colab.research.google.com/assets/colab-badge.svg\" alt=\"Open In Colab\"/></a>"
      ]
    },
    {
      "cell_type": "code",
      "execution_count": 1,
      "metadata": {
        "id": "Hf81eUbfe4K5"
      },
      "outputs": [],
      "source": [
        "import sys\n",
        "import numpy as np"
      ]
    },
    {
      "cell_type": "markdown",
      "source": [
        "**NUMPY ARRAYS**"
      ],
      "metadata": {
        "id": "TuNxvzFg3eiE"
      }
    },
    {
      "cell_type": "markdown",
      "source": [
        "**Basic Numpy Arrays**"
      ],
      "metadata": {
        "id": "sxpjwrNr1O22"
      }
    },
    {
      "cell_type": "code",
      "source": [
        "np.array([1,2,3,4])"
      ],
      "metadata": {
        "colab": {
          "base_uri": "https://localhost:8080/"
        },
        "id": "_wvPvH8Ge6rf",
        "outputId": "bd591de2-66f0-48e5-9cdb-e574c00140fb"
      },
      "execution_count": 2,
      "outputs": [
        {
          "output_type": "execute_result",
          "data": {
            "text/plain": [
              "array([1, 2, 3, 4])"
            ]
          },
          "metadata": {},
          "execution_count": 2
        }
      ]
    },
    {
      "cell_type": "code",
      "source": [
        "a = np.array([1,2,3,4])"
      ],
      "metadata": {
        "id": "iPXyEXZBfHov"
      },
      "execution_count": 3,
      "outputs": []
    },
    {
      "cell_type": "code",
      "source": [
        "b = np.array([0, .5, 1, 1.5, 2])"
      ],
      "metadata": {
        "id": "1oFaomQPfPvP"
      },
      "execution_count": 5,
      "outputs": []
    },
    {
      "cell_type": "code",
      "source": [
        "a[0], a[1]"
      ],
      "metadata": {
        "colab": {
          "base_uri": "https://localhost:8080/"
        },
        "id": "l5mjJpsufeD0",
        "outputId": "614493e1-c4ae-4c7c-c857-638e67cc37b6"
      },
      "execution_count": 6,
      "outputs": [
        {
          "output_type": "execute_result",
          "data": {
            "text/plain": [
              "(1, 2)"
            ]
          },
          "metadata": {},
          "execution_count": 6
        }
      ]
    },
    {
      "cell_type": "code",
      "source": [
        "a[0:]"
      ],
      "metadata": {
        "colab": {
          "base_uri": "https://localhost:8080/"
        },
        "id": "YB6eg-Xpfk9g",
        "outputId": "97c0d2f6-4c82-4895-d47f-1136b36328ca"
      },
      "execution_count": 7,
      "outputs": [
        {
          "output_type": "execute_result",
          "data": {
            "text/plain": [
              "array([1, 2, 3, 4])"
            ]
          },
          "metadata": {},
          "execution_count": 7
        }
      ]
    },
    {
      "cell_type": "code",
      "source": [
        "a[1:3]"
      ],
      "metadata": {
        "colab": {
          "base_uri": "https://localhost:8080/"
        },
        "id": "EhS42X-tfqLo",
        "outputId": "8720046d-7182-45c8-bca5-17b14e0d6d60"
      },
      "execution_count": 8,
      "outputs": [
        {
          "output_type": "execute_result",
          "data": {
            "text/plain": [
              "array([2, 3])"
            ]
          },
          "metadata": {},
          "execution_count": 8
        }
      ]
    },
    {
      "cell_type": "code",
      "source": [
        "a[1:-1]"
      ],
      "metadata": {
        "colab": {
          "base_uri": "https://localhost:8080/"
        },
        "id": "4TLw5lwvfxuc",
        "outputId": "5f0df5ed-edff-464b-e98a-44760de50ab0"
      },
      "execution_count": 9,
      "outputs": [
        {
          "output_type": "execute_result",
          "data": {
            "text/plain": [
              "array([2, 3])"
            ]
          },
          "metadata": {},
          "execution_count": 9
        }
      ]
    },
    {
      "cell_type": "code",
      "source": [
        "a[::2]"
      ],
      "metadata": {
        "colab": {
          "base_uri": "https://localhost:8080/"
        },
        "id": "REFeLEl2f2DF",
        "outputId": "496f6d0b-a4bf-41a3-dbb7-93eb87c49ded"
      },
      "execution_count": 10,
      "outputs": [
        {
          "output_type": "execute_result",
          "data": {
            "text/plain": [
              "array([1, 3])"
            ]
          },
          "metadata": {},
          "execution_count": 10
        }
      ]
    },
    {
      "cell_type": "code",
      "source": [
        "b[0], b[2], [b-1]"
      ],
      "metadata": {
        "colab": {
          "base_uri": "https://localhost:8080/"
        },
        "id": "V3OXb2KMf6dj",
        "outputId": "4fb0df19-06ce-414f-f48c-f0ce180f6633"
      },
      "execution_count": 11,
      "outputs": [
        {
          "output_type": "execute_result",
          "data": {
            "text/plain": [
              "(0.0, 1.0, [array([-1. , -0.5,  0. ,  0.5,  1. ])])"
            ]
          },
          "metadata": {},
          "execution_count": 11
        }
      ]
    },
    {
      "cell_type": "code",
      "source": [
        "b[[0, 2, -1]]"
      ],
      "metadata": {
        "colab": {
          "base_uri": "https://localhost:8080/"
        },
        "id": "1ibWxrWSgOBR",
        "outputId": "218219d8-8f22-440e-f4cd-ffb5888a393a"
      },
      "execution_count": 12,
      "outputs": [
        {
          "output_type": "execute_result",
          "data": {
            "text/plain": [
              "array([0., 1., 2.])"
            ]
          },
          "metadata": {},
          "execution_count": 12
        }
      ]
    },
    {
      "cell_type": "markdown",
      "source": [
        "**Array Types**"
      ],
      "metadata": {
        "id": "Iohe3xRW1ibf"
      }
    },
    {
      "cell_type": "code",
      "source": [
        "a"
      ],
      "metadata": {
        "colab": {
          "base_uri": "https://localhost:8080/"
        },
        "id": "fnJQ7VDGgxhL",
        "outputId": "4b5dd91d-e4a1-488b-d5f7-4d9ade7dccd4"
      },
      "execution_count": 13,
      "outputs": [
        {
          "output_type": "execute_result",
          "data": {
            "text/plain": [
              "array([1, 2, 3, 4])"
            ]
          },
          "metadata": {},
          "execution_count": 13
        }
      ]
    },
    {
      "cell_type": "code",
      "source": [
        "a.dtype"
      ],
      "metadata": {
        "colab": {
          "base_uri": "https://localhost:8080/"
        },
        "id": "Bsqhw3uHgzrm",
        "outputId": "a471667a-7376-4c0e-ff7f-10bc0d4566ba"
      },
      "execution_count": 14,
      "outputs": [
        {
          "output_type": "execute_result",
          "data": {
            "text/plain": [
              "dtype('int64')"
            ]
          },
          "metadata": {},
          "execution_count": 14
        }
      ]
    },
    {
      "cell_type": "code",
      "source": [
        "b"
      ],
      "metadata": {
        "colab": {
          "base_uri": "https://localhost:8080/"
        },
        "id": "RuCX8_Geg2i1",
        "outputId": "cb6e301e-314d-41c2-bb43-c00e14d97ffa"
      },
      "execution_count": 15,
      "outputs": [
        {
          "output_type": "execute_result",
          "data": {
            "text/plain": [
              "array([0. , 0.5, 1. , 1.5, 2. ])"
            ]
          },
          "metadata": {},
          "execution_count": 15
        }
      ]
    },
    {
      "cell_type": "code",
      "source": [
        "b.dtype"
      ],
      "metadata": {
        "colab": {
          "base_uri": "https://localhost:8080/"
        },
        "id": "lGd8Z_YNg4Oq",
        "outputId": "d8f4cba0-d849-4eb4-c77f-cc2787b392cf"
      },
      "execution_count": 16,
      "outputs": [
        {
          "output_type": "execute_result",
          "data": {
            "text/plain": [
              "dtype('float64')"
            ]
          },
          "metadata": {},
          "execution_count": 16
        }
      ]
    },
    {
      "cell_type": "code",
      "source": [
        "np.array([1, 2, 3, 4], dtype=np.float)"
      ],
      "metadata": {
        "colab": {
          "base_uri": "https://localhost:8080/"
        },
        "id": "SxGdYcKBg7f3",
        "outputId": "77d3af40-bd67-489c-9cbd-f8cd15191d6f"
      },
      "execution_count": 17,
      "outputs": [
        {
          "output_type": "stream",
          "name": "stderr",
          "text": [
            "<ipython-input-17-6aadc0eb779c>:1: DeprecationWarning: `np.float` is a deprecated alias for the builtin `float`. To silence this warning, use `float` by itself. Doing this will not modify any behavior and is safe. If you specifically wanted the numpy scalar type, use `np.float64` here.\n",
            "Deprecated in NumPy 1.20; for more details and guidance: https://numpy.org/devdocs/release/1.20.0-notes.html#deprecations\n",
            "  np.array([1, 2, 3, 4], dtype=np.float)\n"
          ]
        },
        {
          "output_type": "execute_result",
          "data": {
            "text/plain": [
              "array([1., 2., 3., 4.])"
            ]
          },
          "metadata": {},
          "execution_count": 17
        }
      ]
    },
    {
      "cell_type": "code",
      "source": [
        "c = np.array(['a', 'b', 'c'])"
      ],
      "metadata": {
        "id": "pty3MsyjhROq"
      },
      "execution_count": 18,
      "outputs": []
    },
    {
      "cell_type": "code",
      "source": [
        "c.dtype"
      ],
      "metadata": {
        "colab": {
          "base_uri": "https://localhost:8080/"
        },
        "id": "LcsB3jXbhdIR",
        "outputId": "7bc1faf5-88fa-4b58-b4fd-4007fc583cd2"
      },
      "execution_count": 19,
      "outputs": [
        {
          "output_type": "execute_result",
          "data": {
            "text/plain": [
              "dtype('<U1')"
            ]
          },
          "metadata": {},
          "execution_count": 19
        }
      ]
    },
    {
      "cell_type": "code",
      "source": [
        "d = np.array([{'a': 1}, sys])"
      ],
      "metadata": {
        "id": "leZf3YguhmLb"
      },
      "execution_count": 20,
      "outputs": []
    },
    {
      "cell_type": "code",
      "source": [
        "d.dtype"
      ],
      "metadata": {
        "colab": {
          "base_uri": "https://localhost:8080/"
        },
        "id": "pUGk4o5khugg",
        "outputId": "fbb025b2-e8af-4c1e-d124-4961d6d7cc58"
      },
      "execution_count": 21,
      "outputs": [
        {
          "output_type": "execute_result",
          "data": {
            "text/plain": [
              "dtype('O')"
            ]
          },
          "metadata": {},
          "execution_count": 21
        }
      ]
    },
    {
      "cell_type": "markdown",
      "source": [
        "**Dimensions and shapes**"
      ],
      "metadata": {
        "id": "6vHszXcG1xtx"
      }
    },
    {
      "cell_type": "code",
      "source": [
        "A = np.array([\n",
        "    [1, 2, 3],\n",
        "    [4, 5, 6]\n",
        "])"
      ],
      "metadata": {
        "id": "6La0e3V6iBSS"
      },
      "execution_count": 22,
      "outputs": []
    },
    {
      "cell_type": "code",
      "source": [
        "A.shape"
      ],
      "metadata": {
        "colab": {
          "base_uri": "https://localhost:8080/"
        },
        "id": "lI6MGtNNiNrN",
        "outputId": "ce8ba932-ba58-44d1-c63b-babeea008ef7"
      },
      "execution_count": 23,
      "outputs": [
        {
          "output_type": "execute_result",
          "data": {
            "text/plain": [
              "(2, 3)"
            ]
          },
          "metadata": {},
          "execution_count": 23
        }
      ]
    },
    {
      "cell_type": "code",
      "source": [
        "A.ndim"
      ],
      "metadata": {
        "colab": {
          "base_uri": "https://localhost:8080/"
        },
        "id": "yen87ujTiQHJ",
        "outputId": "d566f2f5-614e-402c-d920-04832f4414ec"
      },
      "execution_count": 24,
      "outputs": [
        {
          "output_type": "execute_result",
          "data": {
            "text/plain": [
              "2"
            ]
          },
          "metadata": {},
          "execution_count": 24
        }
      ]
    },
    {
      "cell_type": "code",
      "source": [
        "A.size"
      ],
      "metadata": {
        "colab": {
          "base_uri": "https://localhost:8080/"
        },
        "id": "PGh17wCIiTnh",
        "outputId": "913c4bbb-4073-4c8c-9597-fa307378584e"
      },
      "execution_count": 25,
      "outputs": [
        {
          "output_type": "execute_result",
          "data": {
            "text/plain": [
              "6"
            ]
          },
          "metadata": {},
          "execution_count": 25
        }
      ]
    },
    {
      "cell_type": "code",
      "source": [
        "B = np.array([\n",
        "    [\n",
        "        [12, 11, 10],\n",
        "        [9, 8, 7],\n",
        "    ],\n",
        "    [\n",
        "        [6, 5, 4],\n",
        "        [3, 2, 1]\n",
        "    ]\n",
        "])"
      ],
      "metadata": {
        "id": "J85oxj8biZAg"
      },
      "execution_count": 26,
      "outputs": []
    },
    {
      "cell_type": "code",
      "source": [
        "B"
      ],
      "metadata": {
        "colab": {
          "base_uri": "https://localhost:8080/"
        },
        "id": "D_NMKRJpi0ja",
        "outputId": "6b0f5f7c-0fdd-4192-c565-d7b590aa66f4"
      },
      "execution_count": 27,
      "outputs": [
        {
          "output_type": "execute_result",
          "data": {
            "text/plain": [
              "array([[[12, 11, 10],\n",
              "        [ 9,  8,  7]],\n",
              "\n",
              "       [[ 6,  5,  4],\n",
              "        [ 3,  2,  1]]])"
            ]
          },
          "metadata": {},
          "execution_count": 27
        }
      ]
    },
    {
      "cell_type": "code",
      "source": [
        "B.shape\n"
      ],
      "metadata": {
        "colab": {
          "base_uri": "https://localhost:8080/"
        },
        "id": "eobA83wii3yP",
        "outputId": "1935e4e3-5c09-4a88-8262-fc62a6800781"
      },
      "execution_count": 28,
      "outputs": [
        {
          "output_type": "execute_result",
          "data": {
            "text/plain": [
              "(2, 2, 3)"
            ]
          },
          "metadata": {},
          "execution_count": 28
        }
      ]
    },
    {
      "cell_type": "code",
      "source": [
        "B.ndim"
      ],
      "metadata": {
        "colab": {
          "base_uri": "https://localhost:8080/"
        },
        "id": "JAcB3KiRi5kH",
        "outputId": "fbdfcbfa-99c6-4b0e-bff2-3a4f1965ff98"
      },
      "execution_count": 29,
      "outputs": [
        {
          "output_type": "execute_result",
          "data": {
            "text/plain": [
              "3"
            ]
          },
          "metadata": {},
          "execution_count": 29
        }
      ]
    },
    {
      "cell_type": "code",
      "source": [
        "B.size"
      ],
      "metadata": {
        "colab": {
          "base_uri": "https://localhost:8080/"
        },
        "id": "vixLNN3Si7Sx",
        "outputId": "4ecfec0c-e4e4-4869-e7f9-555faca322d3"
      },
      "execution_count": 30,
      "outputs": [
        {
          "output_type": "execute_result",
          "data": {
            "text/plain": [
              "12"
            ]
          },
          "metadata": {},
          "execution_count": 30
        }
      ]
    },
    {
      "cell_type": "markdown",
      "source": [
        "If the shape isn't consistent, it'll just fall back to regular Python objects:"
      ],
      "metadata": {
        "id": "TuTHJuYo1-is"
      }
    },
    {
      "cell_type": "code",
      "source": [
        "C = np.array([\n",
        "    [\n",
        "      [12,11,10],\n",
        "      [9, 8, 7],\n",
        "    ],\n",
        "    [\n",
        "        [6, 5, 4]\n",
        "    ]\n",
        "])"
      ],
      "metadata": {
        "colab": {
          "base_uri": "https://localhost:8080/"
        },
        "id": "dth3HyDZi8lT",
        "outputId": "574e1c59-c480-4a6b-9481-0b84436ac930"
      },
      "execution_count": 7,
      "outputs": [
        {
          "output_type": "stream",
          "name": "stderr",
          "text": [
            "<ipython-input-7-8af2fd54212f>:1: VisibleDeprecationWarning: Creating an ndarray from ragged nested sequences (which is a list-or-tuple of lists-or-tuples-or ndarrays with different lengths or shapes) is deprecated. If you meant to do this, you must specify 'dtype=object' when creating the ndarray.\n",
            "  C = np.array([\n"
          ]
        }
      ]
    },
    {
      "cell_type": "code",
      "source": [
        "C.dtype"
      ],
      "metadata": {
        "colab": {
          "base_uri": "https://localhost:8080/"
        },
        "id": "aUffJT6cz5aZ",
        "outputId": "3600fa90-fa28-43dd-a647-20487c315b9f"
      },
      "execution_count": 8,
      "outputs": [
        {
          "output_type": "execute_result",
          "data": {
            "text/plain": [
              "dtype('O')"
            ]
          },
          "metadata": {},
          "execution_count": 8
        }
      ]
    },
    {
      "cell_type": "code",
      "source": [
        "C.shape"
      ],
      "metadata": {
        "colab": {
          "base_uri": "https://localhost:8080/"
        },
        "id": "seTCP5YK0JYT",
        "outputId": "a52e893e-6cc8-48f6-b2a9-4354384458f7"
      },
      "execution_count": 9,
      "outputs": [
        {
          "output_type": "execute_result",
          "data": {
            "text/plain": [
              "(2,)"
            ]
          },
          "metadata": {},
          "execution_count": 9
        }
      ]
    },
    {
      "cell_type": "code",
      "source": [
        "C.size"
      ],
      "metadata": {
        "colab": {
          "base_uri": "https://localhost:8080/"
        },
        "id": "ichG3CAj0PCs",
        "outputId": "dcd5deb7-2f21-4ad3-d714-22cc938b42b9"
      },
      "execution_count": 10,
      "outputs": [
        {
          "output_type": "execute_result",
          "data": {
            "text/plain": [
              "2"
            ]
          },
          "metadata": {},
          "execution_count": 10
        }
      ]
    },
    {
      "cell_type": "code",
      "source": [
        "type(C[0])"
      ],
      "metadata": {
        "colab": {
          "base_uri": "https://localhost:8080/"
        },
        "id": "F2BWC7ek0SOL",
        "outputId": "caebc320-64a6-4388-88b8-5f6638215ab5"
      },
      "execution_count": 12,
      "outputs": [
        {
          "output_type": "execute_result",
          "data": {
            "text/plain": [
              "list"
            ]
          },
          "metadata": {},
          "execution_count": 12
        }
      ]
    },
    {
      "cell_type": "markdown",
      "source": [
        "**Indexing and Slicing of Matrices**"
      ],
      "metadata": {
        "id": "RpfVi3F10esy"
      }
    },
    {
      "cell_type": "code",
      "source": [
        "# Square matrix\n",
        "A = np.array([\n",
        "    [1, 2, 3],\n",
        "    [4, 5, 6],\n",
        "    [7, 8, 9]\n",
        "])"
      ],
      "metadata": {
        "id": "VFDA5Dme0v0H"
      },
      "execution_count": 13,
      "outputs": []
    },
    {
      "cell_type": "code",
      "source": [
        "A[1]"
      ],
      "metadata": {
        "colab": {
          "base_uri": "https://localhost:8080/"
        },
        "id": "kmW_XyfM0tTW",
        "outputId": "abad89b4-5df8-4917-9d47-6e7b867cb1d9"
      },
      "execution_count": 15,
      "outputs": [
        {
          "output_type": "execute_result",
          "data": {
            "text/plain": [
              "array([4, 5, 6])"
            ]
          },
          "metadata": {},
          "execution_count": 15
        }
      ]
    },
    {
      "cell_type": "code",
      "source": [
        "A[1][0]"
      ],
      "metadata": {
        "colab": {
          "base_uri": "https://localhost:8080/"
        },
        "id": "OqN3Xnjg1DPj",
        "outputId": "ae1eceec-4544-4816-c2cd-a48c01cf1e15"
      },
      "execution_count": 14,
      "outputs": [
        {
          "output_type": "execute_result",
          "data": {
            "text/plain": [
              "4"
            ]
          },
          "metadata": {},
          "execution_count": 14
        }
      ]
    },
    {
      "cell_type": "code",
      "source": [
        "A [1, 0]"
      ],
      "metadata": {
        "colab": {
          "base_uri": "https://localhost:8080/"
        },
        "id": "b8bjMSEG1KkE",
        "outputId": "d9b62229-2c04-45f7-8e3f-fc6fe92aa827"
      },
      "execution_count": 16,
      "outputs": [
        {
          "output_type": "execute_result",
          "data": {
            "text/plain": [
              "4"
            ]
          },
          "metadata": {},
          "execution_count": 16
        }
      ]
    },
    {
      "cell_type": "code",
      "source": [
        "A[0:2]"
      ],
      "metadata": {
        "colab": {
          "base_uri": "https://localhost:8080/"
        },
        "id": "1ApDOra-1VRZ",
        "outputId": "f7da9304-f09c-4c06-9e5d-4118a1e665eb"
      },
      "execution_count": 17,
      "outputs": [
        {
          "output_type": "execute_result",
          "data": {
            "text/plain": [
              "array([[1, 2, 3],\n",
              "       [4, 5, 6]])"
            ]
          },
          "metadata": {},
          "execution_count": 17
        }
      ]
    },
    {
      "cell_type": "code",
      "source": [
        "A[:, :2]"
      ],
      "metadata": {
        "colab": {
          "base_uri": "https://localhost:8080/"
        },
        "id": "jc3MbFiy1cr6",
        "outputId": "fa1df897-c753-4061-c945-cdde23eaa374"
      },
      "execution_count": 18,
      "outputs": [
        {
          "output_type": "execute_result",
          "data": {
            "text/plain": [
              "array([[1, 2],\n",
              "       [4, 5],\n",
              "       [7, 8]])"
            ]
          },
          "metadata": {},
          "execution_count": 18
        }
      ]
    },
    {
      "cell_type": "code",
      "source": [
        "A[:2, :2]"
      ],
      "metadata": {
        "colab": {
          "base_uri": "https://localhost:8080/"
        },
        "id": "jCuERSm-1jMw",
        "outputId": "dd52e5f5-204d-454f-d28a-17f2ae966bfa"
      },
      "execution_count": 19,
      "outputs": [
        {
          "output_type": "execute_result",
          "data": {
            "text/plain": [
              "array([[1, 2],\n",
              "       [4, 5]])"
            ]
          },
          "metadata": {},
          "execution_count": 19
        }
      ]
    },
    {
      "cell_type": "code",
      "source": [
        "A"
      ],
      "metadata": {
        "colab": {
          "base_uri": "https://localhost:8080/"
        },
        "id": "oK0r8zt41pzz",
        "outputId": "37de35b6-133d-4635-843b-4a7a4c52ed91"
      },
      "execution_count": 20,
      "outputs": [
        {
          "output_type": "execute_result",
          "data": {
            "text/plain": [
              "array([[1, 2, 3],\n",
              "       [4, 5, 6],\n",
              "       [7, 8, 9]])"
            ]
          },
          "metadata": {},
          "execution_count": 20
        }
      ]
    },
    {
      "cell_type": "code",
      "source": [
        "A[1] = np.array([10, 10, 10])"
      ],
      "metadata": {
        "id": "jQb3X0SQ1r7B"
      },
      "execution_count": 21,
      "outputs": []
    },
    {
      "cell_type": "code",
      "source": [
        "A"
      ],
      "metadata": {
        "colab": {
          "base_uri": "https://localhost:8080/"
        },
        "id": "G44_zF8q1yhm",
        "outputId": "4a6ca766-95b6-438f-a2f9-a5711c4ebb0d"
      },
      "execution_count": 22,
      "outputs": [
        {
          "output_type": "execute_result",
          "data": {
            "text/plain": [
              "array([[ 1,  2,  3],\n",
              "       [10, 10, 10],\n",
              "       [ 7,  8,  9]])"
            ]
          },
          "metadata": {},
          "execution_count": 22
        }
      ]
    },
    {
      "cell_type": "code",
      "source": [
        "A[2] = 99"
      ],
      "metadata": {
        "id": "qhWvgYQf105-"
      },
      "execution_count": 23,
      "outputs": []
    },
    {
      "cell_type": "code",
      "source": [
        "A"
      ],
      "metadata": {
        "colab": {
          "base_uri": "https://localhost:8080/"
        },
        "id": "eiA0pmNX14qe",
        "outputId": "b7334779-8735-4683-ee9f-80a1f3452949"
      },
      "execution_count": 24,
      "outputs": [
        {
          "output_type": "execute_result",
          "data": {
            "text/plain": [
              "array([[ 1,  2,  3],\n",
              "       [10, 10, 10],\n",
              "       [99, 99, 99]])"
            ]
          },
          "metadata": {},
          "execution_count": 24
        }
      ]
    },
    {
      "cell_type": "markdown",
      "source": [
        "**Summary Statistics**"
      ],
      "metadata": {
        "id": "IqXKoGcy19MT"
      }
    },
    {
      "cell_type": "code",
      "source": [
        "a = np.array([1, 2, 3, 4])"
      ],
      "metadata": {
        "id": "90lkYet32A27"
      },
      "execution_count": 25,
      "outputs": []
    },
    {
      "cell_type": "code",
      "source": [
        "a.sum()"
      ],
      "metadata": {
        "colab": {
          "base_uri": "https://localhost:8080/"
        },
        "id": "vEiu5QvO2gzp",
        "outputId": "af133c5c-3d44-46bf-c44b-f35d72642ae2"
      },
      "execution_count": 26,
      "outputs": [
        {
          "output_type": "execute_result",
          "data": {
            "text/plain": [
              "10"
            ]
          },
          "metadata": {},
          "execution_count": 26
        }
      ]
    },
    {
      "cell_type": "code",
      "source": [
        "a.mean()"
      ],
      "metadata": {
        "colab": {
          "base_uri": "https://localhost:8080/"
        },
        "id": "zsOXI7Ph2jen",
        "outputId": "cb69aa7e-ae68-4eec-9858-58ca2be83e23"
      },
      "execution_count": 27,
      "outputs": [
        {
          "output_type": "execute_result",
          "data": {
            "text/plain": [
              "2.5"
            ]
          },
          "metadata": {},
          "execution_count": 27
        }
      ]
    },
    {
      "cell_type": "code",
      "source": [
        "a.std()"
      ],
      "metadata": {
        "colab": {
          "base_uri": "https://localhost:8080/"
        },
        "id": "K_f_BLYb2nS1",
        "outputId": "fb36a810-4dc5-4a9b-ca92-2f22c670ecc9"
      },
      "execution_count": 28,
      "outputs": [
        {
          "output_type": "execute_result",
          "data": {
            "text/plain": [
              "1.118033988749895"
            ]
          },
          "metadata": {},
          "execution_count": 28
        }
      ]
    },
    {
      "cell_type": "code",
      "source": [
        "a.var()"
      ],
      "metadata": {
        "colab": {
          "base_uri": "https://localhost:8080/"
        },
        "id": "msx4cc4g2qY6",
        "outputId": "8fe29fd7-4542-4df9-983e-85c25060d226"
      },
      "execution_count": 29,
      "outputs": [
        {
          "output_type": "execute_result",
          "data": {
            "text/plain": [
              "1.25"
            ]
          },
          "metadata": {},
          "execution_count": 29
        }
      ]
    },
    {
      "cell_type": "code",
      "source": [
        "A = np.array([\n",
        "    [1, 2, 3],\n",
        "    [4, 5, 6],\n",
        "    [7, 8, 9]\n",
        "])"
      ],
      "metadata": {
        "id": "dEOT6jLx2ssj"
      },
      "execution_count": 30,
      "outputs": []
    },
    {
      "cell_type": "code",
      "source": [
        "A.sum()"
      ],
      "metadata": {
        "colab": {
          "base_uri": "https://localhost:8080/"
        },
        "id": "g24ji1_m241F",
        "outputId": "0c87bbe2-e45a-478b-9f97-c19e77c2abd0"
      },
      "execution_count": 31,
      "outputs": [
        {
          "output_type": "execute_result",
          "data": {
            "text/plain": [
              "45"
            ]
          },
          "metadata": {},
          "execution_count": 31
        }
      ]
    },
    {
      "cell_type": "code",
      "source": [
        "A.mean()\n"
      ],
      "metadata": {
        "colab": {
          "base_uri": "https://localhost:8080/"
        },
        "id": "bKAlU4b127r7",
        "outputId": "dcca281d-9fb8-44ef-ecfa-12f9fe7c2413"
      },
      "execution_count": 32,
      "outputs": [
        {
          "output_type": "execute_result",
          "data": {
            "text/plain": [
              "5.0"
            ]
          },
          "metadata": {},
          "execution_count": 32
        }
      ]
    },
    {
      "cell_type": "code",
      "source": [
        "A.std()"
      ],
      "metadata": {
        "colab": {
          "base_uri": "https://localhost:8080/"
        },
        "id": "DiylVd3K2_u_",
        "outputId": "03f9f925-3990-40f8-bcb7-961ce4ba7483"
      },
      "execution_count": 33,
      "outputs": [
        {
          "output_type": "execute_result",
          "data": {
            "text/plain": [
              "2.581988897471611"
            ]
          },
          "metadata": {},
          "execution_count": 33
        }
      ]
    },
    {
      "cell_type": "code",
      "source": [
        "A.sum(axis=0)"
      ],
      "metadata": {
        "colab": {
          "base_uri": "https://localhost:8080/"
        },
        "id": "9iGPl2IY3CS7",
        "outputId": "5ace69bd-a699-41a8-8e77-0e7062ee0097"
      },
      "execution_count": 34,
      "outputs": [
        {
          "output_type": "execute_result",
          "data": {
            "text/plain": [
              "array([12, 15, 18])"
            ]
          },
          "metadata": {},
          "execution_count": 34
        }
      ]
    },
    {
      "cell_type": "code",
      "source": [
        "A.sum(axis=1)"
      ],
      "metadata": {
        "colab": {
          "base_uri": "https://localhost:8080/"
        },
        "id": "AXW1T5fw3GKb",
        "outputId": "9343c2c3-9bdf-4fbe-ba49-0773d6e2187e"
      },
      "execution_count": 35,
      "outputs": [
        {
          "output_type": "execute_result",
          "data": {
            "text/plain": [
              "array([ 6, 15, 24])"
            ]
          },
          "metadata": {},
          "execution_count": 35
        }
      ]
    },
    {
      "cell_type": "code",
      "source": [
        "A.mean(axis=0)"
      ],
      "metadata": {
        "colab": {
          "base_uri": "https://localhost:8080/"
        },
        "id": "nRDf-BRR3Qlt",
        "outputId": "401a08db-7334-4aec-edd1-8f1caec3eb51"
      },
      "execution_count": 36,
      "outputs": [
        {
          "output_type": "execute_result",
          "data": {
            "text/plain": [
              "array([4., 5., 6.])"
            ]
          },
          "metadata": {},
          "execution_count": 36
        }
      ]
    },
    {
      "cell_type": "code",
      "source": [
        "A.mean(axis=1)"
      ],
      "metadata": {
        "colab": {
          "base_uri": "https://localhost:8080/"
        },
        "id": "scrQP5S33XVq",
        "outputId": "59edfc72-638c-4e66-bca7-332bce56bf97"
      },
      "execution_count": 37,
      "outputs": [
        {
          "output_type": "execute_result",
          "data": {
            "text/plain": [
              "array([2., 5., 8.])"
            ]
          },
          "metadata": {},
          "execution_count": 37
        }
      ]
    },
    {
      "cell_type": "markdown",
      "source": [
        "**NUMPY OPERATIONS**"
      ],
      "metadata": {
        "id": "-9BKoQHw3P8A"
      }
    },
    {
      "cell_type": "markdown",
      "source": [
        "**Broadcasting and Vectorized Operations**"
      ],
      "metadata": {
        "id": "8cDi2PzZ3ju5"
      }
    },
    {
      "cell_type": "code",
      "source": [
        "a = np.arange(4)"
      ],
      "metadata": {
        "id": "-7NXTqJ-3y_L"
      },
      "execution_count": 38,
      "outputs": []
    },
    {
      "cell_type": "code",
      "source": [
        "a"
      ],
      "metadata": {
        "colab": {
          "base_uri": "https://localhost:8080/"
        },
        "id": "OF3QZCSO38zJ",
        "outputId": "222a90a8-7aa9-4b53-ef7e-cf958aeb8162"
      },
      "execution_count": 39,
      "outputs": [
        {
          "output_type": "execute_result",
          "data": {
            "text/plain": [
              "array([0, 1, 2, 3])"
            ]
          },
          "metadata": {},
          "execution_count": 39
        }
      ]
    },
    {
      "cell_type": "code",
      "source": [
        "a + 10"
      ],
      "metadata": {
        "colab": {
          "base_uri": "https://localhost:8080/"
        },
        "id": "IUD8LtUG3-eC",
        "outputId": "2fbeae56-6ad3-4f8d-94f8-1e705aa72512"
      },
      "execution_count": 40,
      "outputs": [
        {
          "output_type": "execute_result",
          "data": {
            "text/plain": [
              "array([10, 11, 12, 13])"
            ]
          },
          "metadata": {},
          "execution_count": 40
        }
      ]
    },
    {
      "cell_type": "code",
      "source": [
        "a * 10"
      ],
      "metadata": {
        "colab": {
          "base_uri": "https://localhost:8080/"
        },
        "id": "obLV6hYq4EQX",
        "outputId": "4ebe5a5a-8469-4cfe-9d64-8827e14737e4"
      },
      "execution_count": 41,
      "outputs": [
        {
          "output_type": "execute_result",
          "data": {
            "text/plain": [
              "array([ 0, 10, 20, 30])"
            ]
          },
          "metadata": {},
          "execution_count": 41
        }
      ]
    },
    {
      "cell_type": "code",
      "source": [
        "a"
      ],
      "metadata": {
        "colab": {
          "base_uri": "https://localhost:8080/"
        },
        "id": "NjGi8toC4IXF",
        "outputId": "f06ae845-8613-451f-912b-df8b05c794be"
      },
      "execution_count": 42,
      "outputs": [
        {
          "output_type": "execute_result",
          "data": {
            "text/plain": [
              "array([0, 1, 2, 3])"
            ]
          },
          "metadata": {},
          "execution_count": 42
        }
      ]
    },
    {
      "cell_type": "code",
      "source": [
        "a += 100"
      ],
      "metadata": {
        "id": "XwylAPul4K1w"
      },
      "execution_count": 43,
      "outputs": []
    },
    {
      "cell_type": "code",
      "source": [
        "a"
      ],
      "metadata": {
        "colab": {
          "base_uri": "https://localhost:8080/"
        },
        "id": "80nx4eml4Ork",
        "outputId": "ab375354-bb0b-4333-93e3-7e44b6d55186"
      },
      "execution_count": 44,
      "outputs": [
        {
          "output_type": "execute_result",
          "data": {
            "text/plain": [
              "array([100, 101, 102, 103])"
            ]
          },
          "metadata": {},
          "execution_count": 44
        }
      ]
    },
    {
      "cell_type": "code",
      "source": [
        "l = [0, 1, 2, 3]"
      ],
      "metadata": {
        "id": "TdSBYr954QR1"
      },
      "execution_count": 46,
      "outputs": []
    },
    {
      "cell_type": "code",
      "source": [
        "(i * 10 for i in l)"
      ],
      "metadata": {
        "colab": {
          "base_uri": "https://localhost:8080/"
        },
        "id": "QGM2gAkd4VDs",
        "outputId": "970e35e1-d6b5-4224-de45-ba274dd1bdcb"
      },
      "execution_count": 48,
      "outputs": [
        {
          "output_type": "execute_result",
          "data": {
            "text/plain": [
              "<generator object <genexpr> at 0x7f308af1ad60>"
            ]
          },
          "metadata": {},
          "execution_count": 48
        }
      ]
    },
    {
      "cell_type": "code",
      "source": [
        "a = np.arange(4)"
      ],
      "metadata": {
        "id": "TJTDSeqm4v09"
      },
      "execution_count": 50,
      "outputs": []
    },
    {
      "cell_type": "code",
      "source": [
        "a"
      ],
      "metadata": {
        "colab": {
          "base_uri": "https://localhost:8080/"
        },
        "id": "BQV0rP5y44x1",
        "outputId": "902237d8-2f29-467e-8b45-609d88c237fd"
      },
      "execution_count": 51,
      "outputs": [
        {
          "output_type": "execute_result",
          "data": {
            "text/plain": [
              "array([0, 1, 2, 3])"
            ]
          },
          "metadata": {},
          "execution_count": 51
        }
      ]
    },
    {
      "cell_type": "code",
      "source": [
        "b = np.array([10, 10, 10, 10])"
      ],
      "metadata": {
        "id": "U1GbQthG46Je"
      },
      "execution_count": 52,
      "outputs": []
    },
    {
      "cell_type": "code",
      "source": [
        "a + b"
      ],
      "metadata": {
        "colab": {
          "base_uri": "https://localhost:8080/"
        },
        "id": "7uQIkn1R5AC9",
        "outputId": "56dbdc87-af04-4ebb-9096-da3b8b662b7e"
      },
      "execution_count": 53,
      "outputs": [
        {
          "output_type": "execute_result",
          "data": {
            "text/plain": [
              "array([10, 11, 12, 13])"
            ]
          },
          "metadata": {},
          "execution_count": 53
        }
      ]
    },
    {
      "cell_type": "code",
      "source": [
        "a * b"
      ],
      "metadata": {
        "colab": {
          "base_uri": "https://localhost:8080/"
        },
        "id": "CD8K_xB05Dtw",
        "outputId": "4a9f234b-4fbc-4f86-b4b2-f36fb4f25983"
      },
      "execution_count": 54,
      "outputs": [
        {
          "output_type": "execute_result",
          "data": {
            "text/plain": [
              "array([ 0, 10, 20, 30])"
            ]
          },
          "metadata": {},
          "execution_count": 54
        }
      ]
    },
    {
      "cell_type": "markdown",
      "source": [
        "**NUMPT BOOLEAN ARRAYS**"
      ],
      "metadata": {
        "id": "RThSvY-d4QGu"
      }
    },
    {
      "cell_type": "markdown",
      "source": [
        "**Boolean arrays**"
      ],
      "metadata": {
        "id": "WzPDUgVl5Hli"
      }
    },
    {
      "cell_type": "code",
      "source": [
        "a = np.arange(4)"
      ],
      "metadata": {
        "id": "yoNM9MP45MNU"
      },
      "execution_count": 2,
      "outputs": []
    },
    {
      "cell_type": "code",
      "source": [
        "a"
      ],
      "metadata": {
        "colab": {
          "base_uri": "https://localhost:8080/"
        },
        "id": "NSodfOCm6ELy",
        "outputId": "450f0906-7777-440c-8bd1-fa6a1496b030"
      },
      "execution_count": 3,
      "outputs": [
        {
          "output_type": "execute_result",
          "data": {
            "text/plain": [
              "array([0, 1, 2, 3])"
            ]
          },
          "metadata": {},
          "execution_count": 3
        }
      ]
    },
    {
      "cell_type": "code",
      "source": [
        "a[[0, -1]]"
      ],
      "metadata": {
        "colab": {
          "base_uri": "https://localhost:8080/"
        },
        "id": "iw9-sIvl6FnM",
        "outputId": "d502229f-df3d-44b4-8312-eaa8f23b54ca"
      },
      "execution_count": 4,
      "outputs": [
        {
          "output_type": "execute_result",
          "data": {
            "text/plain": [
              "array([0, 3])"
            ]
          },
          "metadata": {},
          "execution_count": 4
        }
      ]
    },
    {
      "cell_type": "code",
      "source": [
        "a[[True, False, False, True]]"
      ],
      "metadata": {
        "colab": {
          "base_uri": "https://localhost:8080/"
        },
        "id": "VfO8T_WC6LOe",
        "outputId": "26e82517-716d-441e-df28-d63e602eac22"
      },
      "execution_count": 5,
      "outputs": [
        {
          "output_type": "execute_result",
          "data": {
            "text/plain": [
              "array([0, 3])"
            ]
          },
          "metadata": {},
          "execution_count": 5
        }
      ]
    },
    {
      "cell_type": "code",
      "source": [
        "a * 10"
      ],
      "metadata": {
        "colab": {
          "base_uri": "https://localhost:8080/"
        },
        "id": "cUmPsh8Dvvt3",
        "outputId": "46120165-7fee-4971-f7cb-b4f16449b07c"
      },
      "execution_count": 6,
      "outputs": [
        {
          "output_type": "execute_result",
          "data": {
            "text/plain": [
              "array([ 0, 10, 20, 30])"
            ]
          },
          "metadata": {},
          "execution_count": 6
        }
      ]
    },
    {
      "cell_type": "code",
      "source": [
        "a >= 2"
      ],
      "metadata": {
        "colab": {
          "base_uri": "https://localhost:8080/"
        },
        "id": "RKOJkTd46Pju",
        "outputId": "189e233d-ac2b-4b2b-ae35-77fb99e37137"
      },
      "execution_count": 7,
      "outputs": [
        {
          "output_type": "execute_result",
          "data": {
            "text/plain": [
              "array([False, False,  True,  True])"
            ]
          },
          "metadata": {},
          "execution_count": 7
        }
      ]
    },
    {
      "cell_type": "code",
      "source": [
        "a[a >= 2]"
      ],
      "metadata": {
        "colab": {
          "base_uri": "https://localhost:8080/"
        },
        "id": "iYXyFLhK6Tsf",
        "outputId": "e0e711a6-1cbd-4276-d871-774472639337"
      },
      "execution_count": 9,
      "outputs": [
        {
          "output_type": "execute_result",
          "data": {
            "text/plain": [
              "array([2, 3])"
            ]
          },
          "metadata": {},
          "execution_count": 9
        }
      ]
    },
    {
      "cell_type": "code",
      "source": [
        "a.mean()"
      ],
      "metadata": {
        "colab": {
          "base_uri": "https://localhost:8080/"
        },
        "id": "P5teJNNo6XZg",
        "outputId": "9a257978-011b-45a6-e34c-74710e50717b"
      },
      "execution_count": 8,
      "outputs": [
        {
          "output_type": "execute_result",
          "data": {
            "text/plain": [
              "1.5"
            ]
          },
          "metadata": {},
          "execution_count": 8
        }
      ]
    },
    {
      "cell_type": "code",
      "source": [
        "a[a > a.mean()]"
      ],
      "metadata": {
        "colab": {
          "base_uri": "https://localhost:8080/"
        },
        "id": "ZHHvYPQ-6cpq",
        "outputId": "3d8ef6c6-80a5-4607-c1f8-e2ee00edfeea"
      },
      "execution_count": 10,
      "outputs": [
        {
          "output_type": "execute_result",
          "data": {
            "text/plain": [
              "array([2, 3])"
            ]
          },
          "metadata": {},
          "execution_count": 10
        }
      ]
    },
    {
      "cell_type": "code",
      "source": [
        "a[~(a > a.mean())]"
      ],
      "metadata": {
        "colab": {
          "base_uri": "https://localhost:8080/"
        },
        "id": "GjWu06TS6keQ",
        "outputId": "6dcb54fc-921d-4113-f75b-0ca7b4673a52"
      },
      "execution_count": 12,
      "outputs": [
        {
          "output_type": "execute_result",
          "data": {
            "text/plain": [
              "array([0, 1])"
            ]
          },
          "metadata": {},
          "execution_count": 12
        }
      ]
    },
    {
      "cell_type": "code",
      "source": [
        "a[(a == 0) | (a == 1)]"
      ],
      "metadata": {
        "colab": {
          "base_uri": "https://localhost:8080/"
        },
        "id": "LrplXsvD7ABh",
        "outputId": "58143274-5a96-454e-ee3b-7ac7ebcf900b"
      },
      "execution_count": 13,
      "outputs": [
        {
          "output_type": "execute_result",
          "data": {
            "text/plain": [
              "array([0, 1])"
            ]
          },
          "metadata": {},
          "execution_count": 13
        }
      ]
    },
    {
      "cell_type": "code",
      "source": [
        "a[(a <= 2) & (a % 2 == 0)]"
      ],
      "metadata": {
        "colab": {
          "base_uri": "https://localhost:8080/"
        },
        "id": "S6yOPotd7HvZ",
        "outputId": "69baec6a-1c4b-4283-e0a2-32e0834fff49"
      },
      "execution_count": 14,
      "outputs": [
        {
          "output_type": "execute_result",
          "data": {
            "text/plain": [
              "array([0, 2])"
            ]
          },
          "metadata": {},
          "execution_count": 14
        }
      ]
    },
    {
      "cell_type": "code",
      "source": [
        "A = np.random.randint(100, size = (3, 3))"
      ],
      "metadata": {
        "id": "ixV6-WcZ7QyR"
      },
      "execution_count": 15,
      "outputs": []
    },
    {
      "cell_type": "code",
      "source": [
        "A"
      ],
      "metadata": {
        "colab": {
          "base_uri": "https://localhost:8080/"
        },
        "id": "mHeesRsb7g8H",
        "outputId": "b8baa128-94ae-46fa-de62-d20ead8effdd"
      },
      "execution_count": 16,
      "outputs": [
        {
          "output_type": "execute_result",
          "data": {
            "text/plain": [
              "array([[75, 61, 14],\n",
              "       [37,  0, 43],\n",
              "       [24,  7, 93]])"
            ]
          },
          "metadata": {},
          "execution_count": 16
        }
      ]
    },
    {
      "cell_type": "code",
      "source": [
        "A[np.array([\n",
        "    [True, False, True],\n",
        "    [False, True, False],\n",
        "    [True, False, True]\n",
        "])]"
      ],
      "metadata": {
        "colab": {
          "base_uri": "https://localhost:8080/"
        },
        "id": "-FBMZKPv7j_j",
        "outputId": "12a4dc92-0ef8-4bbe-c589-b302cc304574"
      },
      "execution_count": 17,
      "outputs": [
        {
          "output_type": "execute_result",
          "data": {
            "text/plain": [
              "array([75, 14,  0, 24, 93])"
            ]
          },
          "metadata": {},
          "execution_count": 17
        }
      ]
    },
    {
      "cell_type": "code",
      "source": [
        "A > 30"
      ],
      "metadata": {
        "colab": {
          "base_uri": "https://localhost:8080/"
        },
        "id": "YhgxMFgfw6XL",
        "outputId": "a0d04979-e836-4a13-a7ac-ac1a08c24992"
      },
      "execution_count": 18,
      "outputs": [
        {
          "output_type": "execute_result",
          "data": {
            "text/plain": [
              "array([[ True,  True, False],\n",
              "       [ True, False,  True],\n",
              "       [False, False,  True]])"
            ]
          },
          "metadata": {},
          "execution_count": 18
        }
      ]
    },
    {
      "cell_type": "code",
      "source": [
        "A[A > 30]"
      ],
      "metadata": {
        "colab": {
          "base_uri": "https://localhost:8080/"
        },
        "id": "SaPooq36xCBF",
        "outputId": "cd14129f-f331-4770-9f86-394cdd939c02"
      },
      "execution_count": 19,
      "outputs": [
        {
          "output_type": "execute_result",
          "data": {
            "text/plain": [
              "array([75, 61, 37, 43, 93])"
            ]
          },
          "metadata": {},
          "execution_count": 19
        }
      ]
    },
    {
      "cell_type": "markdown",
      "source": [
        "**NUMPY ALBEBRA AND SIZE**"
      ],
      "metadata": {
        "id": "F6dHST2X4W1R"
      }
    },
    {
      "cell_type": "markdown",
      "source": [
        "**Linear Algebra**"
      ],
      "metadata": {
        "id": "CdMzT_r44qyY"
      }
    },
    {
      "cell_type": "code",
      "source": [
        "A = np.array([\n",
        "    [1, 2, 3],\n",
        "    [4, 5, 6],\n",
        "    [7, 8, 9]\n",
        "])"
      ],
      "metadata": {
        "id": "TSSPTUAK41Ay"
      },
      "execution_count": 20,
      "outputs": []
    },
    {
      "cell_type": "code",
      "source": [
        "B = np.array([\n",
        "    [6, 5],\n",
        "    [4, 3],\n",
        "    [2, 1]\n",
        "])"
      ],
      "metadata": {
        "id": "hKLhbGTn9OSF"
      },
      "execution_count": 21,
      "outputs": []
    },
    {
      "cell_type": "code",
      "source": [
        "A.dot(B)"
      ],
      "metadata": {
        "colab": {
          "base_uri": "https://localhost:8080/"
        },
        "id": "IyRGr6hr9bQi",
        "outputId": "96ba61f4-7e42-4c28-f2ee-65112f801a5d"
      },
      "execution_count": 22,
      "outputs": [
        {
          "output_type": "execute_result",
          "data": {
            "text/plain": [
              "array([[20, 14],\n",
              "       [56, 41],\n",
              "       [92, 68]])"
            ]
          },
          "metadata": {},
          "execution_count": 22
        }
      ]
    },
    {
      "cell_type": "code",
      "source": [
        "A @ B"
      ],
      "metadata": {
        "colab": {
          "base_uri": "https://localhost:8080/"
        },
        "id": "y8NYcvyX-F0-",
        "outputId": "fe17c58c-07b9-45d5-8da1-f42463e7ab0e"
      },
      "execution_count": 23,
      "outputs": [
        {
          "output_type": "execute_result",
          "data": {
            "text/plain": [
              "array([[20, 14],\n",
              "       [56, 41],\n",
              "       [92, 68]])"
            ]
          },
          "metadata": {},
          "execution_count": 23
        }
      ]
    },
    {
      "cell_type": "markdown",
      "source": [
        "![LinearAlgebra-1.png](data:image/png;base64,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)"
      ],
      "metadata": {
        "id": "uwf3m_zCCoLS"
      }
    },
    {
      "cell_type": "code",
      "source": [
        "B.T"
      ],
      "metadata": {
        "colab": {
          "base_uri": "https://localhost:8080/"
        },
        "id": "FmUt472L-Ljm",
        "outputId": "56bdd6be-e0fe-4652-d172-534b46b7eea5"
      },
      "execution_count": 24,
      "outputs": [
        {
          "output_type": "execute_result",
          "data": {
            "text/plain": [
              "array([[6, 4, 2],\n",
              "       [5, 3, 1]])"
            ]
          },
          "metadata": {},
          "execution_count": 24
        }
      ]
    },
    {
      "cell_type": "code",
      "source": [
        "A"
      ],
      "metadata": {
        "colab": {
          "base_uri": "https://localhost:8080/"
        },
        "id": "bTwuz4SE-OY2",
        "outputId": "10ce2115-a4bf-416c-ab71-5319e34f5e00"
      },
      "execution_count": 25,
      "outputs": [
        {
          "output_type": "execute_result",
          "data": {
            "text/plain": [
              "array([[1, 2, 3],\n",
              "       [4, 5, 6],\n",
              "       [7, 8, 9]])"
            ]
          },
          "metadata": {},
          "execution_count": 25
        }
      ]
    },
    {
      "cell_type": "code",
      "source": [
        "B.T @ A"
      ],
      "metadata": {
        "colab": {
          "base_uri": "https://localhost:8080/"
        },
        "id": "fCtBAjzI-P2y",
        "outputId": "59617ec3-13d6-4c9d-b2ed-2a314ec5b7fd"
      },
      "execution_count": 26,
      "outputs": [
        {
          "output_type": "execute_result",
          "data": {
            "text/plain": [
              "array([[36, 48, 60],\n",
              "       [24, 33, 42]])"
            ]
          },
          "metadata": {},
          "execution_count": 26
        }
      ]
    },
    {
      "cell_type": "markdown",
      "source": [
        "![LinearAlgebra-2.png](data:image/png;base64,iVBORw0KGgoAAAANSUhEUgAAAUoAAADJCAIAAADKGOyQAAAAAXNSR0IArs4c6QAAAARnQU1BAACxjwv8YQUAAAAJcEhZcwAAEnQAABJ0Ad5mH3gAABhVSURBVHhe7ZzBkRw30oXlEq90hB6METRig3dZsA7wQCv2qtBlfxd+B7QF1KtqIAEkCpWZMz3N90WFNNNdyAS+yjdDKdT647+EkBclxfsfQsjLwXgT8rIw3oS8LIw3IS8L403Iy8J4E/KyMN6EvCyM91Pz94+vf1R8/fE33qppbjx5+4lburTrRh0qsEyvTT4cxvupyTF6hOjn24X8pZuuZHSPqLwzt5jlNt309pb+wnw/NYz3UyPivX8/ye6leMvCJdMmOd0/j7+R54Xxfmq68Z5E6kK8U5njlnR74uuPn9ure229xBnrC53Ih8J4PzUizjmKk3RfCN2Zz6Jg7nSsK+Pf8Fh9oRX5UBjvp2YPXck8TdPMPcJbJLX6Rol33lG1hvl+Xhjvp6YO0xF3PVDTyJ05ru4sI10kXSA3xHw/NYz3UyPThFem6dVueOS4SnHxTZn0mty9pf+jgHw4jPdTEx/vx1dHTNueJ7238lLm+zlhvJ+aJk9VmPI3TZIfoR2QbthL5PKJdP/5zTCs/ST3XyXPAOP91Dwid1IE6Wa8L9zRZZRj5vtpYbx/S/YfGzciTj4VjPfvS/6tW8PAvxaMNyEvC+NNyMvCeBPysiDen5e/gkEbUgM7rqD0bwxEuHLzt/d7rlLAIcJAmwCoXYDSNmhVwHhroE0A1C5AaRu0KmC8NdAmAGoXoLQNWhUw3hpoEwC1C1DaBq0KGG8NtAmA2gUobYNWBYy3BtoEQO0ClLZBqwLGWwNtAqB2AUrboFWBFu/qP0uuPxSknW1f1vsQ0T0jyjZwiDDQJgBX7cqKxPrDmhSEHVdQ2sZzW60rNv+FP0S4Mop3/lTR+DMG2qqd1odupM9kGzhEGGgTgJ/2tOSU3Z2rxYc1Lwg7rqC0DT+r6eC1BLl+0epeRCsJEa704533KJ5pxXjVtuXh6oGRIdNt4BBhoE0AjtorjmeAbzP3HhboFYQdV1DaxhNbla+0d0CEK914p9biMALVSLtzMPdYMd8GDhEG2gQQoD2T3V8ZxIPhwwK9grDjCkrbCLUqJK1aTb+vH/vo3AARrnTjnXfy9rZt4ED6uTcxc48V823gEGGgTQAB2jP5D33GQazoFYQdV1DaRozVrEguumE1q0yF9i/k2xDhyjDexXnyXuvd3JuYmUfBfBs4RBhoE0CA9g1RAdx7WJl+QdhxBaVtuFrd79zpCLplNW8m074JEa6Mf3uXzzTvqtzQvYlRV7XMt4FDhIE2AQRo329vsnj3YW2MCsKOKyhtI8Lqxh50IWLV6l5kf23/WtwAEa5ci3ez23sTM/VYM98GDhEG2gTgrj0PrZhAcO9hKQVhxxWUtuFu9SCvqTWtWc0vVNvIfstbIMKV4b9aq/bSKLo3MRc8lsy3gUOEgTYB+GrPo9JVnrjxsPSCsOMKStvwtVrQFFm1moVWPptbIMKVbrzFbtqt3ZmYjQsea2bbwCHCQJsAHLVn3V3fYPVhTQvCjisobcPP6nZbcVNeVKd71aos0e4DIlwZxPt4xqDWsdFdVS0B1UrVSB99GzhEGGgTgJ/2PCeS+W+n8cOaF4QdV1Dahp9V6adZtGp1Q4iVJSHClWG8dd5zlQIOEQbaBEDtApS2QasCxlsDbQKgdgFK26BVAeOtgTYBULsApW3QqoDx1kCbAKhdgNI2aFXAeGugTQDULkBpG7QqSPH+vOAQYaANqYEdV1D6NwYiXOFvbw20CYDaBShtg1YFjLcG2gRA7QKUtkGrAsZbA20CoHYBStugVQHjrYE2AVC7AKVt0KqA8dZAmwCoXYDSNmhVwHhroE0A1C5AaRu0KnjVeP/5Df/hfuLbn3j1ZPL2AdoE8KLa//r1/UtS+uX7L7yQqGzXb52gtI2XtDqaVajeGczwJN74BIz4LNzsbHdW7R+naT+YIz5oU9+AQzRsRs7zZjvlTGUtgyEToE0AjgLbT3gJi4Neitf6k0/NQ4GdlqT2y7dv218eerP/8dM4QGkb7mOpOLphdWe0DYioGM5q/UbtuECNd9pI/r/QLQV1eVUxS9JHfqupc4JD6NQm8neDn3UNaBOAo8A0UGNFG71Vqccpex/J89taen6zfi6wI8nh/v4LfyteLH2P/KO0Df+xHItdtQrG24CIgvGspjyXqR/dqcQ7b2T/XzZfNbKxvCrdeawQMjov1eAQOtXR0zelFx20CcBR4K141xzPIH8j67VPAXZqTs1CcT2JozmMjvey1fbUgkWrO9o2IOLBeFZbi4Pf38N4n8frbsV3VeZcetKtUYFDaGQTD0l52NIfH0+0sKNNAI4CnePdPofm9zfslBQD10xlHr300v5FL9zB8V632r2xYs1qRt8GRDwYz2p+p5rbNvCZQbzPjQy24rkKFItBntv055gTWRGH6JCPC8pT5wl7mNlv6w/cBtoE4Cgwp+9Bs+jCIJYBbn9aNE8GdgqS1sNiE++NPdiJkWuUtuFndT57a1Y3ZtuAiAfjWTXGO23s2NdlIzdXHRSnB1nPo0i+ob4Dh1DZrRwyGjHZYejMdQkQmNgdiXWzVbXn9F1doHkysHOSHD4UingXU4mvu7pR2oaf1fnsrVm9sA2IeDCe1eadlXiXG7lu5N6qB9lgJTBVrGpkY+UtOMSEcsAaMQMvO2gTQIBA0FibrMpSiwXt+ubJwM5BnroOyXPW25/RGpS24We1sZA1lRLWrU62AREPxrPaDm0b+Ewn3nlnHcr9eK0quBDv2ZwNKEesGbeBlx20CSBAIMh1Ko/KqnxzPWgXngPsDEiKT6NtmNvRzKC0DT+rzZkbLUtWr2wDIh4osyqndiB1/K/WTro/aQJWtWOVXymLXJ2z7fDFUfOEPVxUA1d904I2AQRp70gbr9pnrlKekJbbBwM7A6p4S/tD4yhtw8/qfPYWrVZ0twERJeNZrbQ2PwdOnjneUHW8Vn2zg0M05PM+ENNUvTvO9gbaBOAmcLuvuC1LlBa7vbp37mTRR9F8n9gI7Ayo472RR/FB3zhK2/Acy9nsrVot6W4DImqUWS21drO98fHx3o3UPPxU7zbacIgw0CYAP4HCX2e0eqvyvEoe/cq3m12EaEdpG45juaHP3g2rJ91tQIQr83h3ec9VCjhEGGgTALULUNoGrQoYbw20CYDaBShtg1YFjLcG2gRA7QKUtkGrAsZbA20CoHYBStugVQHjrYE2AVC7AKVt0KogxfvzgkOEgTakBnZcQenfGIhwhb+9NdAmAGoXoLQNWhUw3hpoEwC1C1DaBq0KGG8NtAmA2gUobYNWBYy3BtoEQO0ClLZBqwLGWwNtAqB2AUrboFUB462BNgFQuwClbdCqgPHWQJsAqF2A0jZoVTCKd/XZl/ZTSJ1V4pNLB+VazcjesPN5pwRqv8uHbErQJgA37Zlq2eVPRCXG2pWtwI4rKG0jzmr7sa8bVqt9fNwnxlKazr11t6qd7SBnslo3WFX8YGjdb6T3r/6voX1BmwActec763W1qHXt+a12og9gxxWUthFltSN12er0MUGEKxf+cN571vNV4jiZ7qqjfP67EJ9Ir+NtsYlXi3fNVe3SW+txVXvnpRrYcQWlbbhZbW5L01wvW7QqX2nvgAhXouLdW6Svas+bOF9NX8h6jHeinryOxkXtXdMVsOMKSttws9r8bmo1LVqdPyaIcOVCvDu/hqceO7vfWDVSvpa+bIYOhwgDbQJw1Z5vTXb2L6T3Re15Dm/+7+Xvg9I23KwOrJQeFq1uTB4TRLgyjXfeSpOryaqexI1VI6nM8cpvFu9V7fvEJMzaRet8Q30H7LiC0jb8rOZTSwnVykWrO9pjgghXJvHu+7hyts6iRSOp9+P79HZTE4cIA20CcNS+j95uav9azM6a9ty86p13U94CO66gtA1Hq7j94O1t+67StGh1/pggwhUt3iMdG9rZmmk4WTJS2S0oN4RDhIE2Abhpz9r0NC5p39dXBZtbYMcVlLbhZrUhOahXr1m98JggwpVhvHP3+rkXzDz2160ZqWn9buAQYaBNAG7aW92NyEXtzSSmFpV62HEFpW24WZV0pm/N6oXHBBGu9OOdWw91bAzP1sxGyZqRmvT2q8f7lvY8OIWZdpCWtVcl2nqfLN63rJbkAs3sLVqdPyaIcKUb79xaUp1vdLbOLBQo9ms6FdJtLx7v29rFQmnvhvbq3eZpwI4rKG3Dz2qtpzfR61YnjwkiXJn8q7UR77lKAYcIA20CoHYBStugVQHjrYE2AVC7AKVt0KqA8dZAmwCoXYDSNmhVwHhroE0A1C5AaRu0KmC8NdAmAGoXoLQNWhXkeP/1xqt7bXKC+Pd//sWrvODFxl//9/+8yovxVq8wxHDzghcbYrh5Md7qFYYYbl7wYkMMNy/GW73CEMPNC15siOHmxXirVxhiuHnBiw0x3LwYb/UKQww3L3ixIYabF+OtXmGI4eYFLzbEcPNivNUrDDHcvODFhhhuXoy3eoUhhpsXvNgQw82L8VavMMRw84IXG2K4eTHe6hWGGG5e8GJDDDcvxlu9whDDzQtebIjh5sV4q1cYYrh5wYsNMdy8GG/1CkMMNy94sSGGmxfjrV5hiOHmBS82xHDzYrzVKwwx3LzgxYYYbl6Mt3qFIYabF7zYEMPNi/FWrzDEcPOCFxtiuHkx3uoVhhhuXvBiQww3L8ZbvcIQw80LXmyI4ebFeKtXGGK4ecGLDTHcvBhv9QpDDDcveLEhhpsX461eYYjh5gUvNsRw82K81SsMMdy84MWGGG5enzve+J+1h7HJCUIM9+e6YMcVeLEhhvuTXQHkeK/znqsUcIgw0CYAahegtA1aFTDeGmgTALULUNoGrQoYbw20CYDaBShtg1YFjLcG2gRA7QKUtkGrAsZbA20CoHYBStugVQHjrYE2AVC7AKVt0KqA8dZAmwCoXYDSNmhV0I/3z7c/BG8/8daOdrZ9sViQWTUy3QYOEQbaBOCqvVrXir/xsP7+8TUXyzTvwo4rKG3jma1OtwERrozj/fXH3/iuw+BsxVS0PnQjPabbwCHCQJsA/LQn56fs3lwtP6z8xrmPXLK+AXZcQWkbflbTqtqqLLFqdboNiHDFM97HWOS/ixHLDIwM+RAjJWgTgKP2ijqaO4sPS+6ivQN2XEFpG09s9WOG2fe3907nbDtzjzUfYqQEbQII0J65PIgHzcNqn17aVvUK7LiC0jZCrYqJXrP6QcN86Z+9212tnm1n7rFmug0cIgy0CSBAeyaXMA1iO4bNLbDjCkrbiLGaz98sW7P6QcPcj3dJ3qnczerZdqa9FLrbwCHCQJsAArRv5BEyDuLLxbtkxep+705nmtes1nS3ARGuzOO90T7xe2e70kuh3QYOEQbaBBCgfRDu1Yf10vHeWLW60U3jmtWG9xnmy/GuN3vvbFd6KbTbwCHCQJsA3LXnmzvZ3lh7WO3TayYRdlxBaRvuVg/2gF9fdS3e9R0Q4cqVeOe9LvzAG57tiv0xnW3gEGGgTQC+2vOsDMdp8WHJNLd3wI4rKG3D12rB6qrWmaBTECJc6cV7a100zhuRW713tgseCy5sA4cIA20CcNTevbNk9WHlHxbHVvL79Rx+qnjftLo5KO6qjIA1qxe2ARGudH97791PxDYS3bOJZZlqrWqkZb4NHCIMtAnAT/v+m1tQjeKNh1UWFWO9ATuuoLQNP6vzZYtW59uACFcu/bN3y3uuUsAhwkCbAKhdgNI2aFXAeGugTQDULkBpG7QqYLw10CYAahegtA1aFTDeGmgTALULUNoGrQoYbw20CYDaBShtg1YFKd6fFxwiDLQhNbDjCkr/xkCEK/ztrYE2AVC7AKVt0KqA8dZAmwCoXYDSNmhVwHhroE0A1C5AaRu0KmC8NdAmAGoXoLQNWhUw3hpoEwC1C1DaBq0KGG8NtAmA2gUobYNWBa8a7z+/4b/dT3z7E6+W/Pr+Jb335fsvvNABbQJ4Oe2K8Pmz2EBpGy9nFfRm9ZLVUbyrzyFd/LjMCT4d03zUSFu1N5SdJtvAISTJxnngXYM8f7rly7dv21+eKt53tFdrMmLhqvZpQdgp2CTXwh9albdKUNqGo9UdZeWq1Y2qWpMOiGjpzOqFCc/0473t49xb3pPci3a2FO6vb2/bXy7Gu/isXGUkvV5vQxrDIXTyj756prKw77/wN7zYAW0CcNSe7mxUlyxqnxeEnREd4Qfjt1DahqNV+Bl7uGNV3QhESC7M6tjqhT+c9445XpXu3m7G3/Ai6K46yue/10YqetvAIXSaw+cX0g87TVkGbQJw1D5N46r2aUHYGXH6bRm/hdI2HK12vNQsWpWvtHdARM2lWc03meItDjpadd6bvmhGRO3Va1OS3xclcQid/GeXx0gVE6Ypy6BNAI7a78X7oNPGFu/xrGlvvWu8L1hN96kOjFY7N0BEycVZFRNeMI133kdz0P6qYs9dPatGKpIe+T4OoSH/cS99f5h44ngvaM9iHrRDuap9WhB2KvIkAjFpylsPUNqGn9UcxvRPmCdy2arVw+tWZ/9Cvg0RBddmVU54ySjeeX+gk7nuqrTr4960/pLHk66Rk2ykKYhDjNHC/YzxvqO9ZF8vPBm09wvCzoA9zV2vylsobcPPqpi3vUK19pbVPdiJ9k2IOLk2q1q4r/zhvPuAO6vKcO+rmjTeMpLoh3s2Z+3J8ysdRnrQJgA37Q3JVb3stvadtiDsDNlT3P1FPXwLpW34WW0OnUew9LRqdW+9v7Z/LW6AiIMrs6pne+PCP3tXGwPtqnz8DqWjVSM7ubJ4IgCH6LHb6Y7Yyegn4gnaBOClvaWZw5vaT9qCsDMkZ7gvdvgWStvws5oOXc1c42nNan5B/3kBEQPaWb0y4ZfjXedruiqtaSK5ZiSTJbQvAxyiYfg7ouYTxHtR+/qqvvaCTkHYebBNWiG7+p2ivFWB0jb8/DS3NXlfs9r+jGxugYgBYlYvTng33tteir55Z7WQuce0ebFmfc7yS+K1ChxCsv9cE3SG6snifUv75qi4qWtsTfuFgrBTsE/bSTl2ylslKG3DzepGvvNYWX2zs2a1adxWhIgB9axenfD+b+/9oZ7U50qoZ0ukCsLiYJXoldkbZgOSqigOEQbaBOCnfbpoVfu8IOy4gtI2/KwmqoXNskWrG2KeZUWIcOXKH847vOcqBRwiDLQJgNoFKG2DVgWMtwbaBEDtApS2QasCxlsDbQKgdgFK26BVAeOtgTYBULsApW3QqoDx1kCbAKhdgNI2aFWQ4v15wSHCQBtSAzuuoPRvDES4wt/eGmgTALULUNoGrQoYbw20CYDaBShtg1YFjLcG2gRA7QKUtkGrAsZbA20CoHYBStugVQHjrYE2AVC7AKVt0KqA8dZAmwCoXYDSNmhVwHhroE0A1C5AaRu0KlDjvX/EpfORod7Zeh+W2ShXrxm5UBCHCANtAnDTnqk+i3Ttg3o6ekHYcQWlbcRZbRxYrbYFIcKVUbyLbK0YKcklqsU3jJS0BXGIMNAmAEfteWjOu/N39eysap8WhB1XUNpGlNWOA5vVXkGIcKUf7+xj694GClw4W3WcnVUjNZ2COEQYaBOAn3Z5c7t4Ufu8IOy4gtI23Kwea/DtPnx1HNesXigIEa7o/+y9YqSmOU5izUhNtyAOEQbaBOCovR6UztpV7dOCsOMKSttws9r8KmkXr1m9UBAiXAmKd3/hmpGKfkEcIgy0CcBVe56dlMj9C7lyXfukIOy4gtI23Ky29yYT1W+XNasXCkKEKzHxzlPRrlszUjIoiEOEgTYBeGvfc5hw0q4VhB1XUNqGn9V8s/gjjCXeFwpChCsR8RYnebBo5GRYEIcIA20CcNS+T8p++/61WLuqfVoQdlxBaRuOVssfcBtvb9t31eJVq9OCEOFKQLwHv2k31o1kxgVxiDDQJgA37fne6kdfo2tN+4WCsOMKSttws9qQFte/YNasNrQFIcIV/3iPw3jTiFIQhwgDbQJw097aaVavab9QEHZcQWkbblYlaa344+OaVUmnIES44h3vvELs++SOEbUgDhEG2gTgpz3HsRDUxnNR+7wg7LiC0jb8rJb0R3DRakm/IES40o937i+4NDHtKJTcMKIXxCHCQJsAXLVnSQ+krnXtk4Kw4wpK2/CzWi/qDeCi1XlBiHBF/+095D1XKeAQYaBNANQuQGkbtCpgvDXQJgBqF6C0DVoVMN4aaBMAtQtQ2gatChhvDbQJgNoFKG2DVgWMtwbaBEDtApS2QauCFO/PCw4RBtqQGthxBaV/YyDClT/wo4MQ8nIw3oS8LIw3IS8L403Iy8J4E/KyMN6EvCyMNyEvC+NNyIvyzz//A/ZwNDj7hhpTAAAAAElFTkSuQmCC)"
      ],
      "metadata": {
        "id": "1iOMl1v9Hyjh"
      }
    },
    {
      "cell_type": "markdown",
      "source": [
        "**Size of Objects in Memory**"
      ],
      "metadata": {
        "id": "ZR9egdSJH4LO"
      }
    },
    {
      "cell_type": "markdown",
      "source": [
        "**int, floats**"
      ],
      "metadata": {
        "id": "Itns98WlIK0o"
      }
    },
    {
      "cell_type": "code",
      "source": [
        "# As integer in Python is > 24 bytes\n",
        "sys.getsizeof(1)"
      ],
      "metadata": {
        "colab": {
          "base_uri": "https://localhost:8080/"
        },
        "id": "RMu8a6nTIH2M",
        "outputId": "444c0b0d-2da1-447d-85f2-9e9399289a82"
      },
      "execution_count": 27,
      "outputs": [
        {
          "output_type": "execute_result",
          "data": {
            "text/plain": [
              "28"
            ]
          },
          "metadata": {},
          "execution_count": 27
        }
      ]
    },
    {
      "cell_type": "code",
      "source": [
        "# Longs are even larger\n",
        "sys.getsizeof(10**100)"
      ],
      "metadata": {
        "colab": {
          "base_uri": "https://localhost:8080/"
        },
        "id": "frQ63zSeIZNo",
        "outputId": "70951ef5-c567-47cb-ffed-4810ac7359b1"
      },
      "execution_count": 30,
      "outputs": [
        {
          "output_type": "execute_result",
          "data": {
            "text/plain": [
              "72"
            ]
          },
          "metadata": {},
          "execution_count": 30
        }
      ]
    },
    {
      "cell_type": "code",
      "source": [
        "# Numpy size is much smaller\n",
        "np.dtype(int).itemsize"
      ],
      "metadata": {
        "colab": {
          "base_uri": "https://localhost:8080/"
        },
        "id": "aj3eHWLsIvG6",
        "outputId": "98b65d31-1c0c-41ce-8337-ef94d58ad745"
      },
      "execution_count": 31,
      "outputs": [
        {
          "output_type": "execute_result",
          "data": {
            "text/plain": [
              "8"
            ]
          },
          "metadata": {},
          "execution_count": 31
        }
      ]
    },
    {
      "cell_type": "code",
      "source": [
        "# Numpy size is much smaller\n",
        "np.dtype(np.int8).itemsize"
      ],
      "metadata": {
        "colab": {
          "base_uri": "https://localhost:8080/"
        },
        "id": "G6ldEr3kJMH-",
        "outputId": "c9fa1666-be28-4c43-c187-8b3193073e9d"
      },
      "execution_count": 33,
      "outputs": [
        {
          "output_type": "execute_result",
          "data": {
            "text/plain": [
              "1"
            ]
          },
          "metadata": {},
          "execution_count": 33
        }
      ]
    },
    {
      "cell_type": "code",
      "source": [
        "np.dtype(float).itemsize"
      ],
      "metadata": {
        "colab": {
          "base_uri": "https://localhost:8080/"
        },
        "id": "nI4-OgiAI8dZ",
        "outputId": "5342e17b-357e-438a-d956-cc7a7910eec4"
      },
      "execution_count": 32,
      "outputs": [
        {
          "output_type": "execute_result",
          "data": {
            "text/plain": [
              "8"
            ]
          },
          "metadata": {},
          "execution_count": 32
        }
      ]
    },
    {
      "cell_type": "markdown",
      "source": [
        "**List are even larger**"
      ],
      "metadata": {
        "id": "NmSj8dtnJDj6"
      }
    },
    {
      "cell_type": "code",
      "source": [
        "# A one-element list\n",
        "sys.getsizeof([1])"
      ],
      "metadata": {
        "colab": {
          "base_uri": "https://localhost:8080/"
        },
        "id": "JG-dg8mvJZXV",
        "outputId": "5b353b64-4471-4db4-9c65-33bde6c2b136"
      },
      "execution_count": 35,
      "outputs": [
        {
          "output_type": "execute_result",
          "data": {
            "text/plain": [
              "64"
            ]
          },
          "metadata": {},
          "execution_count": 35
        }
      ]
    },
    {
      "cell_type": "code",
      "source": [
        "# An array of one element in numpy\n",
        "np.array([1]).nbytes"
      ],
      "metadata": {
        "colab": {
          "base_uri": "https://localhost:8080/"
        },
        "id": "vs9fxDNTJrB2",
        "outputId": "aaf0cca3-474b-425b-d3a7-ca9d2b3d931b"
      },
      "execution_count": 37,
      "outputs": [
        {
          "output_type": "execute_result",
          "data": {
            "text/plain": [
              "8"
            ]
          },
          "metadata": {},
          "execution_count": 37
        }
      ]
    },
    {
      "cell_type": "markdown",
      "source": [
        "**And performance is also important**"
      ],
      "metadata": {
        "id": "3hZOpqBZJ45O"
      }
    },
    {
      "cell_type": "code",
      "source": [
        "t = list(range(1000))"
      ],
      "metadata": {
        "id": "m6qQNGxyJ97Q"
      },
      "execution_count": 38,
      "outputs": []
    },
    {
      "cell_type": "code",
      "source": [
        "a = np.arange(1000)"
      ],
      "metadata": {
        "id": "era73IoDKDmp"
      },
      "execution_count": 39,
      "outputs": []
    },
    {
      "cell_type": "code",
      "source": [
        "%time np.sum (a ** 2)"
      ],
      "metadata": {
        "colab": {
          "base_uri": "https://localhost:8080/"
        },
        "id": "ls2bjPtIKIkz",
        "outputId": "0c8533a7-354b-4144-a3c6-688f5dc51d9d"
      },
      "execution_count": 45,
      "outputs": [
        {
          "output_type": "stream",
          "name": "stdout",
          "text": [
            "CPU times: user 125 µs, sys: 11 µs, total: 136 µs\n",
            "Wall time: 142 µs\n"
          ]
        },
        {
          "output_type": "execute_result",
          "data": {
            "text/plain": [
              "332833500"
            ]
          },
          "metadata": {},
          "execution_count": 45
        }
      ]
    },
    {
      "cell_type": "code",
      "source": [
        "%time sum([x ** 2 for x in t])"
      ],
      "metadata": {
        "colab": {
          "base_uri": "https://localhost:8080/"
        },
        "id": "Nr8tf88kKQOA",
        "outputId": "668dbc4d-a5db-4972-f094-5e82fb419d48"
      },
      "execution_count": 44,
      "outputs": [
        {
          "output_type": "stream",
          "name": "stdout",
          "text": [
            "CPU times: user 412 µs, sys: 0 ns, total: 412 µs\n",
            "Wall time: 418 µs\n"
          ]
        },
        {
          "output_type": "execute_result",
          "data": {
            "text/plain": [
              "332833500"
            ]
          },
          "metadata": {},
          "execution_count": 44
        }
      ]
    },
    {
      "cell_type": "markdown",
      "source": [
        "**Useful Numpy functions**"
      ],
      "metadata": {
        "id": "qkCxNvIOKwjt"
      }
    },
    {
      "cell_type": "markdown",
      "source": [
        "**random**"
      ],
      "metadata": {
        "id": "fFJuTb9sK35F"
      }
    },
    {
      "cell_type": "code",
      "source": [
        "np.random.random(size=2)"
      ],
      "metadata": {
        "colab": {
          "base_uri": "https://localhost:8080/"
        },
        "id": "pbCkPii_K2rB",
        "outputId": "3ab4852b-6380-4621-b6fc-5653d41ed699"
      },
      "execution_count": 46,
      "outputs": [
        {
          "output_type": "execute_result",
          "data": {
            "text/plain": [
              "array([0.03226259, 0.35109952])"
            ]
          },
          "metadata": {},
          "execution_count": 46
        }
      ]
    },
    {
      "cell_type": "code",
      "source": [
        "np.random.normal(size=2)"
      ],
      "metadata": {
        "colab": {
          "base_uri": "https://localhost:8080/"
        },
        "id": "tKrx57JPLIXD",
        "outputId": "3df3b510-94b2-4816-8667-4a4207b106cc"
      },
      "execution_count": 47,
      "outputs": [
        {
          "output_type": "execute_result",
          "data": {
            "text/plain": [
              "array([0.77627959, 0.06060442])"
            ]
          },
          "metadata": {},
          "execution_count": 47
        }
      ]
    },
    {
      "cell_type": "code",
      "source": [
        "np.random.rand(2,4)"
      ],
      "metadata": {
        "colab": {
          "base_uri": "https://localhost:8080/"
        },
        "id": "dB3LHs6pLOQj",
        "outputId": "497f1ce2-1b16-43d4-d751-63b419b7b06d"
      },
      "execution_count": 48,
      "outputs": [
        {
          "output_type": "execute_result",
          "data": {
            "text/plain": [
              "array([[5.65823155e-01, 5.58649990e-04, 7.14490197e-01, 5.46249601e-03],\n",
              "       [2.31286154e-01, 8.46172097e-01, 9.77039203e-01, 4.45272246e-01]])"
            ]
          },
          "metadata": {},
          "execution_count": 48
        }
      ]
    },
    {
      "cell_type": "markdown",
      "source": [
        "**arange**"
      ],
      "metadata": {
        "id": "a0mw7ygMLZer"
      }
    },
    {
      "cell_type": "code",
      "source": [
        "np.arange(10)"
      ],
      "metadata": {
        "colab": {
          "base_uri": "https://localhost:8080/"
        },
        "id": "LdbDnrDqLehX",
        "outputId": "1eb11572-87fa-432b-e4ef-860ff7ac4b16"
      },
      "execution_count": 49,
      "outputs": [
        {
          "output_type": "execute_result",
          "data": {
            "text/plain": [
              "array([0, 1, 2, 3, 4, 5, 6, 7, 8, 9])"
            ]
          },
          "metadata": {},
          "execution_count": 49
        }
      ]
    },
    {
      "cell_type": "code",
      "source": [
        "np.arange(5,10)"
      ],
      "metadata": {
        "colab": {
          "base_uri": "https://localhost:8080/"
        },
        "id": "Z17x20IaLg5I",
        "outputId": "62e56824-b6d1-4094-9f12-5b71459aa1d7"
      },
      "execution_count": 50,
      "outputs": [
        {
          "output_type": "execute_result",
          "data": {
            "text/plain": [
              "array([5, 6, 7, 8, 9])"
            ]
          },
          "metadata": {},
          "execution_count": 50
        }
      ]
    },
    {
      "cell_type": "code",
      "source": [
        "np.arange(0, 1, .1)"
      ],
      "metadata": {
        "colab": {
          "base_uri": "https://localhost:8080/"
        },
        "id": "1V94t89aLkEz",
        "outputId": "961d4b23-9584-4d91-8a7c-325a17f4fa47"
      },
      "execution_count": 51,
      "outputs": [
        {
          "output_type": "execute_result",
          "data": {
            "text/plain": [
              "array([0. , 0.1, 0.2, 0.3, 0.4, 0.5, 0.6, 0.7, 0.8, 0.9])"
            ]
          },
          "metadata": {},
          "execution_count": 51
        }
      ]
    },
    {
      "cell_type": "markdown",
      "source": [
        "**reshape**"
      ],
      "metadata": {
        "id": "YPaVyJFbLt2p"
      }
    },
    {
      "cell_type": "code",
      "source": [
        "np.arange(10).reshape(2, 5)"
      ],
      "metadata": {
        "colab": {
          "base_uri": "https://localhost:8080/"
        },
        "id": "nDI4t-mKL1Y8",
        "outputId": "a730a76e-2b59-4610-b9e6-6e4733b4acbe"
      },
      "execution_count": 52,
      "outputs": [
        {
          "output_type": "execute_result",
          "data": {
            "text/plain": [
              "array([[0, 1, 2, 3, 4],\n",
              "       [5, 6, 7, 8, 9]])"
            ]
          },
          "metadata": {},
          "execution_count": 52
        }
      ]
    },
    {
      "cell_type": "code",
      "source": [
        "np.arange(10).reshape(5, 2)"
      ],
      "metadata": {
        "colab": {
          "base_uri": "https://localhost:8080/"
        },
        "id": "oh76iHM8L__S",
        "outputId": "5071e8c4-0e37-4296-ab58-19731fdde086"
      },
      "execution_count": 53,
      "outputs": [
        {
          "output_type": "execute_result",
          "data": {
            "text/plain": [
              "array([[0, 1],\n",
              "       [2, 3],\n",
              "       [4, 5],\n",
              "       [6, 7],\n",
              "       [8, 9]])"
            ]
          },
          "metadata": {},
          "execution_count": 53
        }
      ]
    },
    {
      "cell_type": "markdown",
      "source": [
        "***linspace***"
      ],
      "metadata": {
        "id": "p2mA_Z1nMIMo"
      }
    },
    {
      "cell_type": "code",
      "source": [
        "np.linspace (0, 1, 5)"
      ],
      "metadata": {
        "colab": {
          "base_uri": "https://localhost:8080/"
        },
        "id": "8XDi3oTTMNbh",
        "outputId": "1bf061ed-46ff-4d33-b9da-1bc2b2e526b3"
      },
      "execution_count": 54,
      "outputs": [
        {
          "output_type": "execute_result",
          "data": {
            "text/plain": [
              "array([0.  , 0.25, 0.5 , 0.75, 1.  ])"
            ]
          },
          "metadata": {},
          "execution_count": 54
        }
      ]
    },
    {
      "cell_type": "code",
      "source": [
        "np.linspace(0, 1, 20)"
      ],
      "metadata": {
        "colab": {
          "base_uri": "https://localhost:8080/"
        },
        "id": "IMyXC6ZcMVc8",
        "outputId": "4c8d8bb7-cef8-4834-9b12-4d06c13d6186"
      },
      "execution_count": 55,
      "outputs": [
        {
          "output_type": "execute_result",
          "data": {
            "text/plain": [
              "array([0.        , 0.05263158, 0.10526316, 0.15789474, 0.21052632,\n",
              "       0.26315789, 0.31578947, 0.36842105, 0.42105263, 0.47368421,\n",
              "       0.52631579, 0.57894737, 0.63157895, 0.68421053, 0.73684211,\n",
              "       0.78947368, 0.84210526, 0.89473684, 0.94736842, 1.        ])"
            ]
          },
          "metadata": {},
          "execution_count": 55
        }
      ]
    },
    {
      "cell_type": "code",
      "source": [
        "np.linspace(0, 1, 20, False)"
      ],
      "metadata": {
        "colab": {
          "base_uri": "https://localhost:8080/"
        },
        "id": "4c2wwi2IMZtj",
        "outputId": "44929406-5329-4522-8a4e-ede22fc50787"
      },
      "execution_count": 56,
      "outputs": [
        {
          "output_type": "execute_result",
          "data": {
            "text/plain": [
              "array([0.  , 0.05, 0.1 , 0.15, 0.2 , 0.25, 0.3 , 0.35, 0.4 , 0.45, 0.5 ,\n",
              "       0.55, 0.6 , 0.65, 0.7 , 0.75, 0.8 , 0.85, 0.9 , 0.95])"
            ]
          },
          "metadata": {},
          "execution_count": 56
        }
      ]
    },
    {
      "cell_type": "markdown",
      "source": [
        "***zeros, ones, empty***"
      ],
      "metadata": {
        "id": "rAbdsrNSMj6N"
      }
    },
    {
      "cell_type": "code",
      "source": [
        "np.zeros(5)"
      ],
      "metadata": {
        "colab": {
          "base_uri": "https://localhost:8080/"
        },
        "id": "6wXX1jehMoQ-",
        "outputId": "a2e869d9-03bd-444a-f52b-e4bb13cf79c8"
      },
      "execution_count": 57,
      "outputs": [
        {
          "output_type": "execute_result",
          "data": {
            "text/plain": [
              "array([0., 0., 0., 0., 0.])"
            ]
          },
          "metadata": {},
          "execution_count": 57
        }
      ]
    },
    {
      "cell_type": "code",
      "source": [
        "np.zeros([13, 3])"
      ],
      "metadata": {
        "colab": {
          "base_uri": "https://localhost:8080/"
        },
        "id": "mxnLKoPJMuF3",
        "outputId": "e5acb799-882e-4fc0-8f26-a2b9681e7f79"
      },
      "execution_count": 58,
      "outputs": [
        {
          "output_type": "execute_result",
          "data": {
            "text/plain": [
              "array([[0., 0., 0.],\n",
              "       [0., 0., 0.],\n",
              "       [0., 0., 0.],\n",
              "       [0., 0., 0.],\n",
              "       [0., 0., 0.],\n",
              "       [0., 0., 0.],\n",
              "       [0., 0., 0.],\n",
              "       [0., 0., 0.],\n",
              "       [0., 0., 0.],\n",
              "       [0., 0., 0.],\n",
              "       [0., 0., 0.],\n",
              "       [0., 0., 0.],\n",
              "       [0., 0., 0.]])"
            ]
          },
          "metadata": {},
          "execution_count": 58
        }
      ]
    },
    {
      "cell_type": "code",
      "source": [
        "np.zeros([3, 3], dtype=np.int)"
      ],
      "metadata": {
        "colab": {
          "base_uri": "https://localhost:8080/"
        },
        "id": "VtpDY0YuM1R7",
        "outputId": "4393b605-fe31-47c6-e945-a2c9a13a2433"
      },
      "execution_count": 60,
      "outputs": [
        {
          "output_type": "stream",
          "name": "stderr",
          "text": [
            "<ipython-input-60-7c40f417537e>:1: DeprecationWarning: `np.int` is a deprecated alias for the builtin `int`. To silence this warning, use `int` by itself. Doing this will not modify any behavior and is safe. When replacing `np.int`, you may wish to use e.g. `np.int64` or `np.int32` to specify the precision. If you wish to review your current use, check the release note link for additional information.\n",
            "Deprecated in NumPy 1.20; for more details and guidance: https://numpy.org/devdocs/release/1.20.0-notes.html#deprecations\n",
            "  np.zeros([3, 3], dtype=np.int)\n"
          ]
        },
        {
          "output_type": "execute_result",
          "data": {
            "text/plain": [
              "array([[0, 0, 0],\n",
              "       [0, 0, 0],\n",
              "       [0, 0, 0]])"
            ]
          },
          "metadata": {},
          "execution_count": 60
        }
      ]
    },
    {
      "cell_type": "code",
      "source": [
        "np.ones(5)"
      ],
      "metadata": {
        "colab": {
          "base_uri": "https://localhost:8080/"
        },
        "id": "lODCqI3fNGe8",
        "outputId": "31de8138-3908-4c38-ec49-b6dfefbafeae"
      },
      "execution_count": 61,
      "outputs": [
        {
          "output_type": "execute_result",
          "data": {
            "text/plain": [
              "array([1., 1., 1., 1., 1.])"
            ]
          },
          "metadata": {},
          "execution_count": 61
        }
      ]
    },
    {
      "cell_type": "code",
      "source": [
        "np.ones((3, 3))"
      ],
      "metadata": {
        "colab": {
          "base_uri": "https://localhost:8080/"
        },
        "id": "iMzHE1hzNLZg",
        "outputId": "88022bd9-c07f-4cdc-e90d-4649cd1c2e23"
      },
      "execution_count": 62,
      "outputs": [
        {
          "output_type": "execute_result",
          "data": {
            "text/plain": [
              "array([[1., 1., 1.],\n",
              "       [1., 1., 1.],\n",
              "       [1., 1., 1.]])"
            ]
          },
          "metadata": {},
          "execution_count": 62
        }
      ]
    },
    {
      "cell_type": "code",
      "source": [
        "np.empty(5)"
      ],
      "metadata": {
        "colab": {
          "base_uri": "https://localhost:8080/"
        },
        "id": "ereFGbmxNPSU",
        "outputId": "67d81426-d5e8-496c-c72a-b16217e52889"
      },
      "execution_count": 63,
      "outputs": [
        {
          "output_type": "execute_result",
          "data": {
            "text/plain": [
              "array([1., 1., 1., 1., 1.])"
            ]
          },
          "metadata": {},
          "execution_count": 63
        }
      ]
    },
    {
      "cell_type": "code",
      "source": [
        "np.empty((2, 2))"
      ],
      "metadata": {
        "colab": {
          "base_uri": "https://localhost:8080/"
        },
        "id": "Gu3ld9AVNVdv",
        "outputId": "2e0d8aa5-7168-4103-88af-0a70b91be50e"
      },
      "execution_count": 64,
      "outputs": [
        {
          "output_type": "execute_result",
          "data": {
            "text/plain": [
              "array([[0.25, 0.5 ],\n",
              "       [0.75, 1.  ]])"
            ]
          },
          "metadata": {},
          "execution_count": 64
        }
      ]
    },
    {
      "cell_type": "markdown",
      "source": [
        "***identity and eye***"
      ],
      "metadata": {
        "id": "2bdk-71gNbOJ"
      }
    },
    {
      "cell_type": "code",
      "source": [
        "np.identity(3)"
      ],
      "metadata": {
        "colab": {
          "base_uri": "https://localhost:8080/"
        },
        "id": "DdMEnfrTNefb",
        "outputId": "bcfbc582-c7c1-4d9c-ef5c-c050f668fb1a"
      },
      "execution_count": 65,
      "outputs": [
        {
          "output_type": "execute_result",
          "data": {
            "text/plain": [
              "array([[1., 0., 0.],\n",
              "       [0., 1., 0.],\n",
              "       [0., 0., 1.]])"
            ]
          },
          "metadata": {},
          "execution_count": 65
        }
      ]
    },
    {
      "cell_type": "code",
      "source": [
        "np.eye(3, 3)"
      ],
      "metadata": {
        "colab": {
          "base_uri": "https://localhost:8080/"
        },
        "id": "H0LVeE2qNhPd",
        "outputId": "3b47d7c1-1d44-4305-8b5c-48862eaa623d"
      },
      "execution_count": 66,
      "outputs": [
        {
          "output_type": "execute_result",
          "data": {
            "text/plain": [
              "array([[1., 0., 0.],\n",
              "       [0., 1., 0.],\n",
              "       [0., 0., 1.]])"
            ]
          },
          "metadata": {},
          "execution_count": 66
        }
      ]
    },
    {
      "cell_type": "code",
      "source": [
        "np.eye(8, 4)"
      ],
      "metadata": {
        "colab": {
          "base_uri": "https://localhost:8080/"
        },
        "id": "XNVry_8aNoX8",
        "outputId": "8ae478a6-986f-42a2-8039-3cc3c2facfb0"
      },
      "execution_count": 67,
      "outputs": [
        {
          "output_type": "execute_result",
          "data": {
            "text/plain": [
              "array([[1., 0., 0., 0.],\n",
              "       [0., 1., 0., 0.],\n",
              "       [0., 0., 1., 0.],\n",
              "       [0., 0., 0., 1.],\n",
              "       [0., 0., 0., 0.],\n",
              "       [0., 0., 0., 0.],\n",
              "       [0., 0., 0., 0.],\n",
              "       [0., 0., 0., 0.]])"
            ]
          },
          "metadata": {},
          "execution_count": 67
        }
      ]
    },
    {
      "cell_type": "code",
      "source": [
        "np.eye(8, 4, k=1)"
      ],
      "metadata": {
        "colab": {
          "base_uri": "https://localhost:8080/"
        },
        "id": "GiGNrAlYNuqs",
        "outputId": "e9d6551f-4c04-43ec-c94e-b1e178891d56"
      },
      "execution_count": 68,
      "outputs": [
        {
          "output_type": "execute_result",
          "data": {
            "text/plain": [
              "array([[0., 1., 0., 0.],\n",
              "       [0., 0., 1., 0.],\n",
              "       [0., 0., 0., 1.],\n",
              "       [0., 0., 0., 0.],\n",
              "       [0., 0., 0., 0.],\n",
              "       [0., 0., 0., 0.],\n",
              "       [0., 0., 0., 0.],\n",
              "       [0., 0., 0., 0.]])"
            ]
          },
          "metadata": {},
          "execution_count": 68
        }
      ]
    },
    {
      "cell_type": "code",
      "source": [
        "np.eye(8, 4, k=-3)"
      ],
      "metadata": {
        "colab": {
          "base_uri": "https://localhost:8080/"
        },
        "id": "a2XA5cJ5N2FO",
        "outputId": "d54278a3-6cdf-4c10-f719-c276ef68b028"
      },
      "execution_count": 69,
      "outputs": [
        {
          "output_type": "execute_result",
          "data": {
            "text/plain": [
              "array([[0., 0., 0., 0.],\n",
              "       [0., 0., 0., 0.],\n",
              "       [0., 0., 0., 0.],\n",
              "       [1., 0., 0., 0.],\n",
              "       [0., 1., 0., 0.],\n",
              "       [0., 0., 1., 0.],\n",
              "       [0., 0., 0., 1.],\n",
              "       [0., 0., 0., 0.]])"
            ]
          },
          "metadata": {},
          "execution_count": 69
        }
      ]
    },
    {
      "cell_type": "code",
      "source": [
        "\"Hello world\"[6]"
      ],
      "metadata": {
        "colab": {
          "base_uri": "https://localhost:8080/",
          "height": 35
        },
        "id": "XlvS3UgEOC6A",
        "outputId": "09d301f3-5347-45a4-aef5-f89a95e767d4"
      },
      "execution_count": 71,
      "outputs": [
        {
          "output_type": "execute_result",
          "data": {
            "text/plain": [
              "'w'"
            ],
            "application/vnd.google.colaboratory.intrinsic+json": {
              "type": "string"
            }
          },
          "metadata": {},
          "execution_count": 71
        }
      ]
    }
  ]
}