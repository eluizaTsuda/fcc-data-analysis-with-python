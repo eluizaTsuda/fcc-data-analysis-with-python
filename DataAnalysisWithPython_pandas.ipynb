{
  "nbformat": 4,
  "nbformat_minor": 0,
  "metadata": {
    "colab": {
      "provenance": [],
      "authorship_tag": "ABX9TyMksASm1l1t5WyosMacyWtA",
      "include_colab_link": true
    },
    "kernelspec": {
      "name": "python3",
      "display_name": "Python 3"
    },
    "language_info": {
      "name": "python"
    }
  },
  "cells": [
    {
      "cell_type": "markdown",
      "metadata": {
        "id": "view-in-github",
        "colab_type": "text"
      },
      "source": [
        "<a href=\"https://colab.research.google.com/github/eluizaTsuda/fcc-data-analysis-with-python/blob/main/DataAnalysisWithPython_pandas.ipynb\" target=\"_parent\"><img src=\"https://colab.research.google.com/assets/colab-badge.svg\" alt=\"Open In Colab\"/></a>"
      ]
    },
    {
      "cell_type": "markdown",
      "source": [
        "***Pandas Serie***"
      ],
      "metadata": {
        "id": "0Aq-HMw5OMkb"
      }
    },
    {
      "cell_type": "code",
      "source": [
        "import pandas as pd\n",
        "import numpy as np"
      ],
      "metadata": {
        "id": "xyFS2vssNntj"
      },
      "execution_count": 2,
      "outputs": []
    },
    {
      "cell_type": "markdown",
      "source": [
        "We will start analyzing \"The Group of Seven, which is a political formed by Canada, France, Germany, Italy, Japan, the United Kingdon and the United States. We'll start by analyzing population, and for that, we'll use a pandas.Series object."
      ],
      "metadata": {
        "id": "zSNDHgWTOWzw"
      }
    },
    {
      "cell_type": "code",
      "source": [
        "# in milliions\n",
        "g7_pop = pd.Series([5.467, 63.951, 80.948, 60.665, 127.061, 64.511, 318.253])"
      ],
      "metadata": {
        "id": "2OYygdYJOxEJ"
      },
      "execution_count": 3,
      "outputs": []
    },
    {
      "cell_type": "code",
      "source": [],
      "metadata": {
        "id": "J-9dVzAQO0f9"
      },
      "execution_count": null,
      "outputs": []
    }
  ]
}